{
 "cells": [
  {
   "cell_type": "markdown",
   "id": "e9b65abd-6dac-4b57-b27b-c8c7c067d32b",
   "metadata": {},
   "source": [
    "## Library Imports"
   ]
  },
  {
   "cell_type": "code",
   "execution_count": 1,
   "id": "e6335723-8ef3-44a5-841d-530a586c2e7f",
   "metadata": {},
   "outputs": [],
   "source": [
    "\n",
    "import numpy as np\n",
    "import pandas as pd\n",
    "import requests\n",
    "import xlsxwriter\n",
    "import math"
   ]
  },
  {
   "cell_type": "markdown",
   "id": "29ff9408-2e5b-49a4-a644-47e5bd225115",
   "metadata": {},
   "source": [
    "## Importing the list of stocks"
   ]
  },
  {
   "cell_type": "code",
   "execution_count": 2,
   "id": "f6cc6b7a-fa5a-4aa3-bac4-b35db93f9374",
   "metadata": {},
   "outputs": [
    {
     "data": {
      "text/html": [
       "<div>\n",
       "<style scoped>\n",
       "    .dataframe tbody tr th:only-of-type {\n",
       "        vertical-align: middle;\n",
       "    }\n",
       "\n",
       "    .dataframe tbody tr th {\n",
       "        vertical-align: top;\n",
       "    }\n",
       "\n",
       "    .dataframe thead th {\n",
       "        text-align: right;\n",
       "    }\n",
       "</style>\n",
       "<table border=\"1\" class=\"dataframe\">\n",
       "  <thead>\n",
       "    <tr style=\"text-align: right;\">\n",
       "      <th></th>\n",
       "      <th>Ticker</th>\n",
       "    </tr>\n",
       "  </thead>\n",
       "  <tbody>\n",
       "    <tr>\n",
       "      <th>0</th>\n",
       "      <td>A</td>\n",
       "    </tr>\n",
       "    <tr>\n",
       "      <th>1</th>\n",
       "      <td>AAL</td>\n",
       "    </tr>\n",
       "    <tr>\n",
       "      <th>2</th>\n",
       "      <td>AAP</td>\n",
       "    </tr>\n",
       "    <tr>\n",
       "      <th>3</th>\n",
       "      <td>AAPL</td>\n",
       "    </tr>\n",
       "    <tr>\n",
       "      <th>4</th>\n",
       "      <td>ABBV</td>\n",
       "    </tr>\n",
       "    <tr>\n",
       "      <th>...</th>\n",
       "      <td>...</td>\n",
       "    </tr>\n",
       "    <tr>\n",
       "      <th>500</th>\n",
       "      <td>YUM</td>\n",
       "    </tr>\n",
       "    <tr>\n",
       "      <th>501</th>\n",
       "      <td>ZBH</td>\n",
       "    </tr>\n",
       "    <tr>\n",
       "      <th>502</th>\n",
       "      <td>ZBRA</td>\n",
       "    </tr>\n",
       "    <tr>\n",
       "      <th>503</th>\n",
       "      <td>ZION</td>\n",
       "    </tr>\n",
       "    <tr>\n",
       "      <th>504</th>\n",
       "      <td>ZTS</td>\n",
       "    </tr>\n",
       "  </tbody>\n",
       "</table>\n",
       "<p>505 rows × 1 columns</p>\n",
       "</div>"
      ],
      "text/plain": [
       "    Ticker\n",
       "0        A\n",
       "1      AAL\n",
       "2      AAP\n",
       "3     AAPL\n",
       "4     ABBV\n",
       "..     ...\n",
       "500    YUM\n",
       "501    ZBH\n",
       "502   ZBRA\n",
       "503   ZION\n",
       "504    ZTS\n",
       "\n",
       "[505 rows x 1 columns]"
      ]
     },
     "execution_count": 2,
     "metadata": {},
     "output_type": "execute_result"
    }
   ],
   "source": [
    "stocks = pd.read_csv(\"sp_500_stocks.csv\")\n",
    "stocks"
   ]
  },
  {
   "cell_type": "markdown",
   "id": "d805fb14-6101-437b-8b39-5f403b9be52f",
   "metadata": {},
   "source": [
    "## Acquire API token"
   ]
  },
  {
   "cell_type": "code",
   "execution_count": 4,
   "id": "a694872b-d401-4f6d-a202-8ef6c16c1d4b",
   "metadata": {},
   "outputs": [],
   "source": [
    "from secrets import IEX_CLOUD_API_TOKEN"
   ]
  },
  {
   "cell_type": "markdown",
   "id": "a04c0ad3-fa37-4ba7-add1-dfdf2142f7c0",
   "metadata": {},
   "source": [
    "## Making API call"
   ]
  },
  {
   "cell_type": "code",
   "execution_count": 5,
   "id": "d2bd5bd9-f44d-4cb8-b714-21ef31fd73a3",
   "metadata": {},
   "outputs": [
    {
     "name": "stdout",
     "output_type": "stream",
     "text": [
      "{'avgTotalVolume': 109294790, 'calculationPrice': 'close', 'change': 1.25, 'changePercent': 0.00711, 'close': 0, 'closeSource': 'lafcoiif', 'closeTime': None, 'companyName': 'Apple Inc', 'currency': 'USD', 'delayedPrice': None, 'delayedPriceTime': None, 'extendedChange': None, 'extendedChangePercent': None, 'extendedPrice': None, 'extendedPriceTime': None, 'high': 0, 'highSource': ' 1  ryaidepuenetme5lidc', 'highTime': 1719558164027, 'iexAskPrice': 0, 'iexAskSize': 0, 'iexBidPrice': 0, 'iexBidSize': 0, 'iexClose': 179.14, 'iexCloseTime': 1691007725524, 'iexLastUpdated': 1725332045507, 'iexMarketPercent': 0.01579085508282332, 'iexOpen': 176.66, 'iexOpenTime': 1653660892804, 'iexRealtimePrice': 178.5, 'iexRealtimeSize': 25, 'iexVolume': 1351103, 'lastTradeTime': 1720884270676, 'latestPrice': 178.77, 'latestSource': 'Close', 'latestTime': 'February 2, 2022', 'latestUpdate': 1670552675248, 'latestVolume': None, 'low': 0, 'lowSource': ' eedindulcp ar 5y1eteim', 'lowTime': 1682382993777, 'marketCap': 2928088119354, 'oddLotDelayedPrice': None, 'oddLotDelayedPriceTime': None, 'open': 0, 'openTime': None, 'openSource': 'filicfoa', 'peRatio': 30.3, 'previousClose': 178.99, 'previousVolume': 87319754, 'primaryExchange': 'SAADQN', 'symbol': 'AAPL', 'volume': None, 'week52High': 188.86, 'week52Low': 119.91, 'ytdChange': -0.00976359073745646, 'isUSMarketOpen': False}\n"
     ]
    }
   ],
   "source": [
    "symbol = \"AAPL\"\n",
    "url = f\"https://sandbox.iexapis.com/stable/stock/{symbol}/quote/?token={IEX_CLOUD_API_TOKEN}\"\n",
    "data = requests.get(url).json()\n",
    "print(data)"
   ]
  },
  {
   "cell_type": "markdown",
   "id": "128eb2de-8bab-40e0-98c5-de4666c2ee0e",
   "metadata": {},
   "source": [
    "## Parsing API call"
   ]
  },
  {
   "cell_type": "code",
   "execution_count": 6,
   "id": "7e73eb30-4d07-4d3d-8fc0-f744d8b6c2b3",
   "metadata": {},
   "outputs": [],
   "source": [
    "price = data[\"latestPrice\"]\n",
    "market_cap = data[\"marketCap\"]"
   ]
  },
  {
   "cell_type": "markdown",
   "id": "482d8106-c15f-4a39-a9b7-580386f0ea89",
   "metadata": {},
   "source": [
    "## Adding stock to DataFrame"
   ]
  },
  {
   "cell_type": "code",
   "execution_count": 7,
   "id": "7176e3e2-316a-4409-9c53-faf609139053",
   "metadata": {},
   "outputs": [],
   "source": [
    "columns = [\"Ticker\",\"Stock Price\",\"Market Capitalization\",\"Numbers Of Shares to buy\"]\n",
    "dataFrame = pd.DataFrame(columns=columns)"
   ]
  },
  {
   "cell_type": "code",
   "execution_count": 8,
   "id": "5cca2dce-912a-4385-914f-b8c388fcc825",
   "metadata": {},
   "outputs": [
    {
     "data": {
      "text/html": [
       "<div>\n",
       "<style scoped>\n",
       "    .dataframe tbody tr th:only-of-type {\n",
       "        vertical-align: middle;\n",
       "    }\n",
       "\n",
       "    .dataframe tbody tr th {\n",
       "        vertical-align: top;\n",
       "    }\n",
       "\n",
       "    .dataframe thead th {\n",
       "        text-align: right;\n",
       "    }\n",
       "</style>\n",
       "<table border=\"1\" class=\"dataframe\">\n",
       "  <thead>\n",
       "    <tr style=\"text-align: right;\">\n",
       "      <th></th>\n",
       "      <th>Ticker</th>\n",
       "      <th>Stock Price</th>\n",
       "      <th>Market Capitalization</th>\n",
       "      <th>Numbers Of Shares to buy</th>\n",
       "    </tr>\n",
       "  </thead>\n",
       "  <tbody>\n",
       "    <tr>\n",
       "      <th>0</th>\n",
       "      <td>AAPL</td>\n",
       "      <td>178.77</td>\n",
       "      <td>2928088119354</td>\n",
       "      <td>N/A</td>\n",
       "    </tr>\n",
       "  </tbody>\n",
       "</table>\n",
       "</div>"
      ],
      "text/plain": [
       "  Ticker  Stock Price Market Capitalization Numbers Of Shares to buy\n",
       "0   AAPL       178.77         2928088119354                      N/A"
      ]
     },
     "execution_count": 8,
     "metadata": {},
     "output_type": "execute_result"
    }
   ],
   "source": [
    "dataFrame.append(\n",
    "    pd.Series(\n",
    "        [\n",
    "            symbol,\n",
    "            price,\n",
    "            market_cap,\n",
    "            \"N/A\"\n",
    "        ],\n",
    "        index = columns\n",
    "    \n",
    "    ),\n",
    "    ignore_index=True\n",
    ")"
   ]
  },
  {
   "cell_type": "markdown",
   "id": "1afe44f3-77f2-49dd-9bcd-0861db9b88ad",
   "metadata": {},
   "source": [
    "## Loop through the tickers in list of stocks"
   ]
  },
  {
   "cell_type": "code",
   "execution_count": null,
   "id": "3868b443-adc3-4070-8b03-6fd25abcef31",
   "metadata": {},
   "outputs": [],
   "source": [
    "dataFrame = pd.DataFrame(columns=columns)\n",
    "for stock in stocks[\"Ticker\"]:\n",
    "    url = f\"https://sandbox.iexapis.com/stable/stock/{stock}/quote/?token={IEX_CLOUD_API_TOKEN}\"\n",
    "    data = requests.get(url).json()\n",
    "    dataFrame = dataFrame.append(\n",
    "        pd.Series(\n",
    "            [\n",
    "                stock,\n",
    "                data[\"latestPrice\"],\n",
    "                data[\"marketCap\"],\n",
    "                \"N/A\"\n",
    "            ],\n",
    "            index=columns\n",
    "        ),\n",
    "        ignore_index=True\n",
    "    )"
   ]
  },
  {
   "cell_type": "code",
   "execution_count": 11,
   "id": "7c2f75ee-3fe5-417f-a941-8e29dd2fa7a2",
   "metadata": {},
   "outputs": [
    {
     "data": {
      "text/html": [
       "<div>\n",
       "<style scoped>\n",
       "    .dataframe tbody tr th:only-of-type {\n",
       "        vertical-align: middle;\n",
       "    }\n",
       "\n",
       "    .dataframe tbody tr th {\n",
       "        vertical-align: top;\n",
       "    }\n",
       "\n",
       "    .dataframe thead th {\n",
       "        text-align: right;\n",
       "    }\n",
       "</style>\n",
       "<table border=\"1\" class=\"dataframe\">\n",
       "  <thead>\n",
       "    <tr style=\"text-align: right;\">\n",
       "      <th></th>\n",
       "      <th>Ticker</th>\n",
       "      <th>Stock Price</th>\n",
       "      <th>Market Capitalization</th>\n",
       "      <th>Numbers Of Shares to buy</th>\n",
       "    </tr>\n",
       "  </thead>\n",
       "  <tbody>\n",
       "    <tr>\n",
       "      <th>0</th>\n",
       "      <td>A</td>\n",
       "      <td>149.73</td>\n",
       "      <td>45413995036</td>\n",
       "      <td>N/A</td>\n",
       "    </tr>\n",
       "    <tr>\n",
       "      <th>1</th>\n",
       "      <td>AAL</td>\n",
       "      <td>17.48</td>\n",
       "      <td>11371711002</td>\n",
       "      <td>N/A</td>\n",
       "    </tr>\n",
       "    <tr>\n",
       "      <th>2</th>\n",
       "      <td>AAP</td>\n",
       "      <td>243.47</td>\n",
       "      <td>14985592815</td>\n",
       "      <td>N/A</td>\n",
       "    </tr>\n",
       "    <tr>\n",
       "      <th>3</th>\n",
       "      <td>AAPL</td>\n",
       "      <td>178.10</td>\n",
       "      <td>2925064876577</td>\n",
       "      <td>N/A</td>\n",
       "    </tr>\n",
       "    <tr>\n",
       "      <th>4</th>\n",
       "      <td>ABBV</td>\n",
       "      <td>141.77</td>\n",
       "      <td>255343243636</td>\n",
       "      <td>N/A</td>\n",
       "    </tr>\n",
       "  </tbody>\n",
       "</table>\n",
       "</div>"
      ],
      "text/plain": [
       "  Ticker  Stock Price Market Capitalization Numbers Of Shares to buy\n",
       "0      A       149.73           45413995036                      N/A\n",
       "1    AAL        17.48           11371711002                      N/A\n",
       "2    AAP       243.47           14985592815                      N/A\n",
       "3   AAPL       178.10         2925064876577                      N/A\n",
       "4   ABBV       141.77          255343243636                      N/A"
      ]
     },
     "execution_count": 11,
     "metadata": {},
     "output_type": "execute_result"
    }
   ],
   "source": [
    "dataFrame"
   ]
  },
  {
   "cell_type": "markdown",
   "id": "341bb5e2-9da9-43e2-8ad5-a6046f4188f1",
   "metadata": {},
   "source": [
    "## Batch API calls "
   ]
  },
  {
   "cell_type": "code",
   "execution_count": 13,
   "id": "84c28be8-3f00-4dc4-98a0-1a76197d435d",
   "metadata": {},
   "outputs": [],
   "source": [
    "def chunks(lst, n):\n",
    "    #Yield succesive n-sized chunks from list\n",
    "    for i in range(0,len(lst),n):\n",
    "        yield lst[i:i +n]"
   ]
  },
  {
   "cell_type": "code",
   "execution_count": 60,
   "id": "fcb6f961-bb1a-4864-a436-88ea3a8b8e82",
   "metadata": {},
   "outputs": [
    {
     "data": {
      "text/html": [
       "<div>\n",
       "<style scoped>\n",
       "    .dataframe tbody tr th:only-of-type {\n",
       "        vertical-align: middle;\n",
       "    }\n",
       "\n",
       "    .dataframe tbody tr th {\n",
       "        vertical-align: top;\n",
       "    }\n",
       "\n",
       "    .dataframe thead th {\n",
       "        text-align: right;\n",
       "    }\n",
       "</style>\n",
       "<table border=\"1\" class=\"dataframe\">\n",
       "  <thead>\n",
       "    <tr style=\"text-align: right;\">\n",
       "      <th></th>\n",
       "      <th>Ticker</th>\n",
       "      <th>Stock Price</th>\n",
       "      <th>Market Capitalization</th>\n",
       "      <th>Numbers Of Shares to buy</th>\n",
       "    </tr>\n",
       "  </thead>\n",
       "  <tbody>\n",
       "    <tr>\n",
       "      <th>0</th>\n",
       "      <td>A</td>\n",
       "      <td>144.53</td>\n",
       "      <td>43631467141</td>\n",
       "      <td>N/A</td>\n",
       "    </tr>\n",
       "    <tr>\n",
       "      <th>1</th>\n",
       "      <td>AAL</td>\n",
       "      <td>17.15</td>\n",
       "      <td>11327238146</td>\n",
       "      <td>N/A</td>\n",
       "    </tr>\n",
       "    <tr>\n",
       "      <th>2</th>\n",
       "      <td>AAP</td>\n",
       "      <td>240.09</td>\n",
       "      <td>15488005397</td>\n",
       "      <td>N/A</td>\n",
       "    </tr>\n",
       "    <tr>\n",
       "      <th>3</th>\n",
       "      <td>AAPL</td>\n",
       "      <td>180.65</td>\n",
       "      <td>2924477718180</td>\n",
       "      <td>N/A</td>\n",
       "    </tr>\n",
       "    <tr>\n",
       "      <th>4</th>\n",
       "      <td>ABBV</td>\n",
       "      <td>139.43</td>\n",
       "      <td>251535804015</td>\n",
       "      <td>N/A</td>\n",
       "    </tr>\n",
       "    <tr>\n",
       "      <th>...</th>\n",
       "      <td>...</td>\n",
       "      <td>...</td>\n",
       "      <td>...</td>\n",
       "      <td>...</td>\n",
       "    </tr>\n",
       "    <tr>\n",
       "      <th>499</th>\n",
       "      <td>YUM</td>\n",
       "      <td>129.33</td>\n",
       "      <td>36882605468</td>\n",
       "      <td>N/A</td>\n",
       "    </tr>\n",
       "    <tr>\n",
       "      <th>500</th>\n",
       "      <td>ZBH</td>\n",
       "      <td>126.17</td>\n",
       "      <td>25729375626</td>\n",
       "      <td>N/A</td>\n",
       "    </tr>\n",
       "    <tr>\n",
       "      <th>501</th>\n",
       "      <td>ZBRA</td>\n",
       "      <td>536.50</td>\n",
       "      <td>27876680818</td>\n",
       "      <td>N/A</td>\n",
       "    </tr>\n",
       "    <tr>\n",
       "      <th>502</th>\n",
       "      <td>ZION</td>\n",
       "      <td>69.70</td>\n",
       "      <td>10973728607</td>\n",
       "      <td>N/A</td>\n",
       "    </tr>\n",
       "    <tr>\n",
       "      <th>503</th>\n",
       "      <td>ZTS</td>\n",
       "      <td>211.05</td>\n",
       "      <td>98933953216</td>\n",
       "      <td>N/A</td>\n",
       "    </tr>\n",
       "  </tbody>\n",
       "</table>\n",
       "<p>504 rows × 4 columns</p>\n",
       "</div>"
      ],
      "text/plain": [
       "    Ticker  Stock Price Market Capitalization Numbers Of Shares to buy\n",
       "0        A       144.53           43631467141                      N/A\n",
       "1      AAL        17.15           11327238146                      N/A\n",
       "2      AAP       240.09           15488005397                      N/A\n",
       "3     AAPL       180.65         2924477718180                      N/A\n",
       "4     ABBV       139.43          251535804015                      N/A\n",
       "..     ...          ...                   ...                      ...\n",
       "499    YUM       129.33           36882605468                      N/A\n",
       "500    ZBH       126.17           25729375626                      N/A\n",
       "501   ZBRA       536.50           27876680818                      N/A\n",
       "502   ZION        69.70           10973728607                      N/A\n",
       "503    ZTS       211.05           98933953216                      N/A\n",
       "\n",
       "[504 rows x 4 columns]"
      ]
     },
     "execution_count": 60,
     "metadata": {},
     "output_type": "execute_result"
    }
   ],
   "source": [
    "symbol_groups = list(chunks(stocks[\"Ticker\"],100))\n",
    "symbol_strings = []\n",
    "\n",
    "for i in range(0,len(symbol_groups)):\n",
    "    symbol_strings.append(\",\".join(symbol_groups[i]))\n",
    "dataFrame = pd.DataFrame(columns = columns)\n",
    "\n",
    "for symbol_string in symbol_strings:\n",
    "    batch_api_call_url = f'https://sandbox.iexapis.com/stable/stock/market/batch/?types=quote&symbols={symbol_string}&token={IEX_CLOUD_API_TOKEN}'\n",
    "    data = requests.get(batch_api_call_url).json()\n",
    "    for symbol in symbol_string.split(\",\"):\n",
    "        if symbol == \"WLTW\":\n",
    "            continue\n",
    "        dataFrame = dataFrame.append(\n",
    "        pd.Series(\n",
    "            [\n",
    "                symbol,\n",
    "                data[symbol]['quote']['latestPrice'],\n",
    "                data[symbol]['quote'][\"marketCap\"],\n",
    "                \"N/A\"\n",
    "            ],\n",
    "            index=columns\n",
    "        ),\n",
    "        ignore_index=True\n",
    "    )\n",
    "dataFrame"
   ]
  },
  {
   "cell_type": "markdown",
   "id": "051d302a-95b7-4e7d-8042-46f2793f077d",
   "metadata": {},
   "source": [
    "## Calculating the number of shares to buy"
   ]
  },
  {
   "cell_type": "code",
   "execution_count": 62,
   "id": "f01ec34b-cb04-4ed3-991f-d8595d8729fd",
   "metadata": {},
   "outputs": [
    {
     "name": "stdin",
     "output_type": "stream",
     "text": [
      "Enter the value of your porfolio: 10000000\n"
     ]
    }
   ],
   "source": [
    "portfolio_size = input(\"Enter the value of your porfolio:\")\n",
    "\n",
    "try:\n",
    "    val = float(portfolio_size)\n",
    "except ValueError:\n",
    "    print(\"ERROR!!! Please type integer\")\n",
    "    portfolio_size= input(\"Please type integer\")\n",
    "    val = portfolio_size"
   ]
  },
  {
   "cell_type": "code",
   "execution_count": 63,
   "id": "2b3cfd73-bc6e-4fb9-9f66-faa3b5e91ed1",
   "metadata": {},
   "outputs": [
    {
     "data": {
      "text/html": [
       "<div>\n",
       "<style scoped>\n",
       "    .dataframe tbody tr th:only-of-type {\n",
       "        vertical-align: middle;\n",
       "    }\n",
       "\n",
       "    .dataframe tbody tr th {\n",
       "        vertical-align: top;\n",
       "    }\n",
       "\n",
       "    .dataframe thead th {\n",
       "        text-align: right;\n",
       "    }\n",
       "</style>\n",
       "<table border=\"1\" class=\"dataframe\">\n",
       "  <thead>\n",
       "    <tr style=\"text-align: right;\">\n",
       "      <th></th>\n",
       "      <th>Ticker</th>\n",
       "      <th>Stock Price</th>\n",
       "      <th>Market Capitalization</th>\n",
       "      <th>Numbers Of Shares to buy</th>\n",
       "    </tr>\n",
       "  </thead>\n",
       "  <tbody>\n",
       "    <tr>\n",
       "      <th>0</th>\n",
       "      <td>A</td>\n",
       "      <td>144.53</td>\n",
       "      <td>43631467141</td>\n",
       "      <td>137</td>\n",
       "    </tr>\n",
       "    <tr>\n",
       "      <th>1</th>\n",
       "      <td>AAL</td>\n",
       "      <td>17.15</td>\n",
       "      <td>11327238146</td>\n",
       "      <td>1156</td>\n",
       "    </tr>\n",
       "    <tr>\n",
       "      <th>2</th>\n",
       "      <td>AAP</td>\n",
       "      <td>240.09</td>\n",
       "      <td>15488005397</td>\n",
       "      <td>82</td>\n",
       "    </tr>\n",
       "    <tr>\n",
       "      <th>3</th>\n",
       "      <td>AAPL</td>\n",
       "      <td>180.65</td>\n",
       "      <td>2924477718180</td>\n",
       "      <td>109</td>\n",
       "    </tr>\n",
       "    <tr>\n",
       "      <th>4</th>\n",
       "      <td>ABBV</td>\n",
       "      <td>139.43</td>\n",
       "      <td>251535804015</td>\n",
       "      <td>142</td>\n",
       "    </tr>\n",
       "    <tr>\n",
       "      <th>...</th>\n",
       "      <td>...</td>\n",
       "      <td>...</td>\n",
       "      <td>...</td>\n",
       "      <td>...</td>\n",
       "    </tr>\n",
       "    <tr>\n",
       "      <th>499</th>\n",
       "      <td>YUM</td>\n",
       "      <td>129.33</td>\n",
       "      <td>36882605468</td>\n",
       "      <td>153</td>\n",
       "    </tr>\n",
       "    <tr>\n",
       "      <th>500</th>\n",
       "      <td>ZBH</td>\n",
       "      <td>126.17</td>\n",
       "      <td>25729375626</td>\n",
       "      <td>157</td>\n",
       "    </tr>\n",
       "    <tr>\n",
       "      <th>501</th>\n",
       "      <td>ZBRA</td>\n",
       "      <td>536.50</td>\n",
       "      <td>27876680818</td>\n",
       "      <td>36</td>\n",
       "    </tr>\n",
       "    <tr>\n",
       "      <th>502</th>\n",
       "      <td>ZION</td>\n",
       "      <td>69.70</td>\n",
       "      <td>10973728607</td>\n",
       "      <td>284</td>\n",
       "    </tr>\n",
       "    <tr>\n",
       "      <th>503</th>\n",
       "      <td>ZTS</td>\n",
       "      <td>211.05</td>\n",
       "      <td>98933953216</td>\n",
       "      <td>94</td>\n",
       "    </tr>\n",
       "  </tbody>\n",
       "</table>\n",
       "<p>504 rows × 4 columns</p>\n",
       "</div>"
      ],
      "text/plain": [
       "    Ticker  Stock Price Market Capitalization Numbers Of Shares to buy\n",
       "0        A       144.53           43631467141                      137\n",
       "1      AAL        17.15           11327238146                     1156\n",
       "2      AAP       240.09           15488005397                       82\n",
       "3     AAPL       180.65         2924477718180                      109\n",
       "4     ABBV       139.43          251535804015                      142\n",
       "..     ...          ...                   ...                      ...\n",
       "499    YUM       129.33           36882605468                      153\n",
       "500    ZBH       126.17           25729375626                      157\n",
       "501   ZBRA       536.50           27876680818                       36\n",
       "502   ZION        69.70           10973728607                      284\n",
       "503    ZTS       211.05           98933953216                       94\n",
       "\n",
       "[504 rows x 4 columns]"
      ]
     },
     "execution_count": 63,
     "metadata": {},
     "output_type": "execute_result"
    }
   ],
   "source": [
    "position_size = val /len(dataFrame.index)\n",
    "for i in range(0,len(dataFrame.index)):\n",
    "    dataFrame.loc[i,\"Numbers Of Shares to buy\"] = math.floor(position_size / dataFrame.loc[i,\"Stock Price\"])\n",
    "dataFrame"
   ]
  },
  {
   "cell_type": "markdown",
   "id": "66823bda-99c5-40d4-ab8e-c27834415f47",
   "metadata": {},
   "source": [
    "## Formatting Excel Ouput"
   ]
  },
  {
   "cell_type": "markdown",
   "id": "e4941ff4-9907-4aa5-848d-d3fefcc0fa4e",
   "metadata": {},
   "source": [
    "### Initiliazing XlsxWriter Object"
   ]
  },
  {
   "cell_type": "code",
   "execution_count": 83,
   "id": "03fc3f1f-dcc6-4ca8-a784-712438f72e81",
   "metadata": {},
   "outputs": [],
   "source": [
    "writer = pd.ExcelWriter(\"Recommended trades.xlsx\",engine=\"xlsxwriter\")\n",
    "dataFrame.to_excel(writer, \"Recommended Trades\",index = False)"
   ]
  },
  {
   "cell_type": "markdown",
   "id": "65e9206e-0d01-48f0-a6a7-a1e2112b1cf1",
   "metadata": {},
   "source": [
    "### Creating needed formats for .xlsx file"
   ]
  },
  {
   "cell_type": "code",
   "execution_count": 84,
   "id": "d6806ac8-2412-4653-9e85-34ceca2291b5",
   "metadata": {},
   "outputs": [],
   "source": [
    "background_color = \"#0a0a23\"\n",
    "font_color = \"#ffffff\"\n",
    "\n",
    "string_format = writer.book.add_format(\n",
    "    \n",
    "    {\n",
    "        'font_color':font_color,\n",
    "        'bg_color':background_color,\n",
    "        'border':1\n",
    "    }\n",
    ")\n",
    "\n",
    "dollar_format = writer.book.add_format(\n",
    "    \n",
    "    {\n",
    "        'num_format': '$0.00',\n",
    "        'font_color': font_color,\n",
    "        'bg_color': background_color,\n",
    "        'border': 1\n",
    "    }\n",
    ")\n",
    "\n",
    "integer_format = writer.book.add_format(\n",
    "    \n",
    "    {\n",
    "        'num_format': '0',\n",
    "        'font_color':font_color,\n",
    "        'bg_color':background_color,\n",
    "        'border':1\n",
    "    }\n",
    ")"
   ]
  },
  {
   "cell_type": "markdown",
   "id": "55024875-c076-4621-8170-69a42629f4b1",
   "metadata": {},
   "source": [
    "### Applying Formats to the Columns in .xlsx File"
   ]
  },
  {
   "cell_type": "code",
   "execution_count": 85,
   "id": "8a230591-3534-4855-a491-5773ac670fea",
   "metadata": {},
   "outputs": [],
   "source": [
    "column_formats = {\n",
    "    \"A\":[\"Ticker\",string_format],\n",
    "    \"B\":[\"Stock Price\",dollar_format],\n",
    "    \"C\":[\"Market Capitialization\",dollar_format],\n",
    "    \"D\":[\"Numbers Of Shares to buy\",integer_format]\n",
    "    \n",
    "}\n",
    "for column in column_formats.keys():\n",
    "    writer.sheets[\"Recommended Trades\"].set_column(f'{column}:{column}',30,column_formats[column][1])\n",
    "    writer.sheets[\"Recommended Trades\"].write(f\"{column}1\",column_formats[column][0],column_formats[column][1])  "
   ]
  },
  {
   "cell_type": "markdown",
   "id": "a0317a35-4ad8-4500-816b-4b240f0e56be",
   "metadata": {},
   "source": [
    "## Save Excel file"
   ]
  },
  {
   "cell_type": "code",
   "execution_count": null,
   "id": "3125a468-39c4-4ab9-9ef1-6e48fe09db53",
   "metadata": {},
   "outputs": [],
   "source": [
    "writer.save()"
   ]
  }
 ],
 "metadata": {
  "kernelspec": {
   "display_name": "Python 3",
   "language": "python",
   "name": "python3"
  },
  "language_info": {
   "codemirror_mode": {
    "name": "ipython",
    "version": 3
   },
   "file_extension": ".py",
   "mimetype": "text/x-python",
   "name": "python",
   "nbconvert_exporter": "python",
   "pygments_lexer": "ipython3",
   "version": "3.7.11"
  }
 },
 "nbformat": 4,
 "nbformat_minor": 5
}
